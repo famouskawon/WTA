{
 "cells": [
  {
   "cell_type": "code",
   "execution_count": 96,
   "metadata": {},
   "outputs": [],
   "source": [
    "import numpy as np\n",
    "\n",
    "W = 2\n",
    "T = 2\n",
    "\n",
    "FN_T = [1] * T\n",
    "\n",
    "M = sum(FN_T)\n",
    "\n",
    "PK_wt = np.array([[0.25, 0.25],[0.1,0.1]])\n",
    "\n"
   ]
  },
  {
   "cell_type": "code",
   "execution_count": 97,
   "metadata": {},
   "outputs": [],
   "source": [
    "def objective_fun_1(theta_wt):\n",
    "    res = 0\n",
    "    for t in range(T):\n",
    "        \n",
    "        a = 1\n",
    "        for w in range(W):\n",
    "            for m in range(M):\n",
    "                p = 1 - PK_wt[w,t] * theta_wt[w,t,m]\n",
    "                a *= p\n",
    "        \n",
    "        print(f\"타깃 {t}에 대한 성공 값 : {1-a}\")\n",
    "        res += 1-a\n",
    "    return res"
   ]
  },
  {
   "cell_type": "code",
   "execution_count": 100,
   "metadata": {},
   "outputs": [],
   "source": [
    "theta_wt = np.zeros((W, T, M), dtype=int)\n",
    "theta_wt[0][0][0] = 1\n",
    "theta_wt[1][0][1] = 1"
   ]
  },
  {
   "cell_type": "code",
   "execution_count": 101,
   "metadata": {},
   "outputs": [
    {
     "name": "stdout",
     "output_type": "stream",
     "text": [
      "타깃 0에 대한 성공 값 : 0.32499999999999996\n",
      "타깃 1에 대한 성공 값 : 0.0\n"
     ]
    },
    {
     "data": {
      "text/plain": [
       "0.32499999999999996"
      ]
     },
     "execution_count": 101,
     "metadata": {},
     "output_type": "execute_result"
    }
   ],
   "source": [
    "objective_fun_1(theta_wt)"
   ]
  },
  {
   "cell_type": "code",
   "execution_count": null,
   "metadata": {},
   "outputs": [],
   "source": []
  }
 ],
 "metadata": {
  "kernelspec": {
   "display_name": "base",
   "language": "python",
   "name": "python3"
  },
  "language_info": {
   "codemirror_mode": {
    "name": "ipython",
    "version": 3
   },
   "file_extension": ".py",
   "mimetype": "text/x-python",
   "name": "python",
   "nbconvert_exporter": "python",
   "pygments_lexer": "ipython3",
   "version": "3.9.12"
  },
  "orig_nbformat": 4
 },
 "nbformat": 4,
 "nbformat_minor": 2
}
