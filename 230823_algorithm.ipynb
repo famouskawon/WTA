{
 "cells": [
  {
   "cell_type": "markdown",
   "metadata": {},
   "source": [
    "1. $m_w$ 추가 발사대에 적재된 유도탄 수량, M을 W로 나눈 뒤 남은 값은 w_1 부터 차레로 적재\n",
    "\n",
    "---\n",
    "\n",
    "# 230823\n",
    "제약 조건 (4), (5) 구현 시도\n",
    "\n",
    "- 한 발사대가 연속발사를 하기 위해서는 발사절차 및 발사대 안정화를 위한 시간을 고려하여야 하므로, 수식 (4)과 같이 한 발사대 상의 연속적 발사를 위한 최소 발사 간격을 제약으로 고려한다.\n",
    "- 각 발사대에서 발사된 유도탄은 제한된 공간 영역 상에서 표적을 요격할 수 있다. 표적의 예상 궤적과 발사대 위치에 따른 요격 공간으로부터 교전 가능한 유도탄 발사 시간이 계산되어진다. 위협 표적에 대해서 교전 가능한 발사 시간 구간 내에서 발사 시점이 산출되어야만 교전 가능하므로, 수식 (5)와 같이 표적 $t$에 대한 발사대 $w$에서 발사 가능한 시간에 대한 제약 조건을 고려해야 한다.\n",
    "\n",
    "- 문제는 요격탄 발사 간격이 1초일 경우, 제한된 시간이 10초 이내 라면, 10개 이상을 발사할 수가 없을텐데,"
   ]
  },
  {
   "cell_type": "code",
   "execution_count": 56,
   "metadata": {},
   "outputs": [],
   "source": [
    "import numpy as np\n",
    "# 시드를 고정\n",
    "np.random.seed(0)\n",
    "\n",
    "# 발사대를 5대로 가정하여 진행\n",
    "W = 5\n",
    "# 위협 표적의 개수를 10개에서 100개까지 10개씩 증가시키며 실행\n",
    "T = 10\n",
    "# 표적 t에 할당할 수 있는 유도탄의 개수는 1개로 가정\n",
    "FN_T = [1] * T\n",
    "\n",
    "M = sum(FN_T)\n",
    "\n",
    "# 0에서 4 사이의 랜덤한 값으로 구성된 W*T 행렬 생성 : 최초발사가능시점\n",
    "ft_wt = np.random.rand(W, T) * 4\n",
    "\n",
    "# 최소 3초 이상의 간격을 갖도록 설정\n",
    "min_lt_wt = ft_wt + 3\n",
    "\n",
    "# 발사가능시점으로부터 최소 3초 이상~ 전체 시간 10초 이내의 간격 행렬 생성\n",
    "inter_lt_wt = 10 - min_lt_wt\n",
    "\n",
    "# 3에서 10 사이의 랜덤한 값으로 구성된 W*T 행렬 생성 : 최후발사가능시점\n",
    "lt_wt = np.random.rand(W, T) * inter_lt_wt + min_lt_wt\n",
    "\n",
    "# 최초발사가능 시점과 최후발사가능 시점 사이의 간격이 3초 이상을 갖는지 확인\n",
    "time_intervals_diff = lt_wt - ft_wt\n",
    "\n",
    "# 0과 99 사이의 실수로 PK_wt 배열 초기화\n",
    "PK_wt = np.random.uniform(0, 99, (W, T))\n",
    "\n",
    "# 표적 t에 발사대 w를 할당할 때의 보상(요격확률) 행렬 생성\n",
    "# PK_wt = np.random.rand(W, T)\n"
   ]
  },
  {
   "cell_type": "code",
   "execution_count": 57,
   "metadata": {},
   "outputs": [
    {
     "name": "stdout",
     "output_type": "stream",
     "text": [
      "[2, 2, 2, 2, 2]\n"
     ]
    }
   ],
   "source": [
    "# M을 W로 나누어 리스트에 적절히 분배\n",
    "quotient, remainder = divmod(M, W)\n",
    "m_w = [quotient] * W\n",
    "\n",
    "# 나머지 값을 리스트의 앞부분에 추가\n",
    "for i in range(remainder):\n",
    "    m_w[i] += 1\n",
    "\n",
    "print(m_w)\n"
   ]
  },
  {
   "cell_type": "code",
   "execution_count": 58,
   "metadata": {},
   "outputs": [],
   "source": [
    "\"\"\"\n",
    "목표함수 (1)\n",
    "해당 목적함수는 결정변수 theta_wt와 요격확률의 곱의 합을 최대화함으로써 요격확률이 높을 때 표적-발사대 쌍의 발사 시점에 무기할당을 하는 의미로 해석할 수 있다.\n",
    "\"\"\"\n",
    "def objective_fun_1(theta_wt):\n",
    "    res = 0\n",
    "    for t in range(T):\n",
    "        \n",
    "        a = 1\n",
    "        for w in range(W):\n",
    "            for m in range(M):\n",
    "                p = 1 - PK_wt[w,t] * theta_wt[w,t,m]\n",
    "                a *= p\n",
    "        \n",
    "        #print(f\"타깃 {t}에 대한 성공 값 : {1-a}\")\n",
    "        res += 1-a\n",
    "    return res"
   ]
  },
  {
   "cell_type": "code",
   "execution_count": 59,
   "metadata": {},
   "outputs": [
    {
     "name": "stdout",
     "output_type": "stream",
     "text": [
      "Value: 98.88585365021879, Index: (Weapon : 4, Target : 9)\n",
      "Value: 95.25666596662639, Index: (Weapon : 0, Target : 3)\n",
      "Value: 94.65227983759917, Index: (Weapon : 2, Target : 2)\n",
      "Value: 94.32215214018152, Index: (Weapon : 0, Target : 9)\n",
      "not enough Missile for Target 9\n",
      "Value: 91.02877876072269, Index: (Weapon : 4, Target : 7)\n",
      "Value: 88.75811298925524, Index: (Weapon : 4, Target : 0)\n",
      "not enough Missile on Weapon 4\n",
      "Value: 88.30041214655154, Index: (Weapon : 4, Target : 3)\n",
      "not enough Missile for Target 3\n",
      "Value: 87.29180082363042, Index: (Weapon : 1, Target : 8)\n",
      "Value: 87.229216514005, Index: (Weapon : 1, Target : 6)\n",
      "Value: 83.79445857464165, Index: (Weapon : 1, Target : 1)\n",
      "not enough Missile on Weapon 1\n",
      "Value: 80.56598415054525, Index: (Weapon : 1, Target : 4)\n",
      "not enough Missile on Weapon 1\n",
      "Value: 79.8132049155625, Index: (Weapon : 4, Target : 4)\n",
      "not enough Missile on Weapon 4\n",
      "Value: 72.7842081901369, Index: (Weapon : 0, Target : 2)\n",
      "not enough Missile for Target 2\n",
      "Value: 71.8001737021444, Index: (Weapon : 2, Target : 0)\n",
      "Value: 70.70988865536204, Index: (Weapon : 4, Target : 8)\n",
      "not enough Missile for Target 8\n",
      "Value: 69.68496977049627, Index: (Weapon : 4, Target : 5)\n",
      "not enough Missile on Weapon 4\n",
      "Value: 69.24844825643292, Index: (Weapon : 1, Target : 2)\n",
      "not enough Missile for Target 2\n",
      "Value: 68.56062741769883, Index: (Weapon : 1, Target : 9)\n",
      "not enough Missile for Target 9\n",
      "Value: 67.10383714282678, Index: (Weapon : 0, Target : 0)\n",
      "not enough Missile for Target 0\n",
      "Value: 65.35718021177581, Index: (Weapon : 2, Target : 8)\n",
      "not enough Missile for Target 8\n",
      "Value: 64.66688116585622, Index: (Weapon : 3, Target : 7)\n",
      "not enough Missile for Target 7\n",
      "Value: 64.5582237301672, Index: (Weapon : 3, Target : 8)\n",
      "not enough Missile for Target 8\n",
      "Value: 63.755029723734104, Index: (Weapon : 2, Target : 3)\n",
      "not enough Missile for Target 3\n",
      "Value: 61.18352747088531, Index: (Weapon : 3, Target : 0)\n",
      "not enough Missile for Target 0\n",
      "Value: 60.032928198664514, Index: (Weapon : 2, Target : 5)\n",
      "not enough Missile on Weapon 2\n",
      "Value: 58.61215119591206, Index: (Weapon : 0, Target : 6)\n",
      "not enough Missile for Target 6\n",
      "Value: 58.49640336356915, Index: (Weapon : 3, Target : 5)\n",
      "Value: 57.54601439095001, Index: (Weapon : 1, Target : 7)\n",
      "not enough Missile for Target 7\n",
      "Value: 57.03957610736585, Index: (Weapon : 0, Target : 5)\n",
      "not enough Missile for Target 5\n",
      "Value: 56.8581996361083, Index: (Weapon : 3, Target : 6)\n",
      "not enough Missile for Target 6\n",
      "Value: 56.65293867329646, Index: (Weapon : 0, Target : 7)\n",
      "not enough Missile for Target 7\n",
      "Value: 56.42652615942522, Index: (Weapon : 3, Target : 4)\n",
      "Value: 49.63111381074352, Index: (Weapon : 2, Target : 1)\n",
      "not enough Missile on Weapon 2\n",
      "Value: 44.265412483145106, Index: (Weapon : 1, Target : 0)\n",
      "not enough Missile for Target 0\n",
      "Value: 43.15062760129705, Index: (Weapon : 4, Target : 2)\n",
      "not enough Missile for Target 2\n",
      "Value: 42.710425107963424, Index: (Weapon : 3, Target : 9)\n",
      "not enough Missile for Target 9\n",
      "Value: 42.44810139363085, Index: (Weapon : 3, Target : 1)\n",
      "not enough Missile on Weapon 3\n",
      "Value: 41.96164980725979, Index: (Weapon : 2, Target : 4)\n",
      "not enough Missile for Target 4\n",
      "Value: 39.25406834385148, Index: (Weapon : 1, Target : 5)\n",
      "not enough Missile for Target 5\n",
      "Value: 36.38862513474176, Index: (Weapon : 4, Target : 1)\n",
      "not enough Missile on Weapon 4\n",
      "Value: 29.855906850780382, Index: (Weapon : 2, Target : 7)\n",
      "not enough Missile for Target 7\n",
      "Value: 29.529950269647046, Index: (Weapon : 3, Target : 3)\n",
      "not enough Missile for Target 3\n",
      "Value: 29.446258134658233, Index: (Weapon : 1, Target : 3)\n",
      "not enough Missile for Target 3\n",
      "Value: 28.717683113833964, Index: (Weapon : 2, Target : 9)\n",
      "not enough Missile for Target 9\n",
      "Value: 26.73078934602432, Index: (Weapon : 0, Target : 1)\n"
     ]
    }
   ],
   "source": [
    "import copy\n",
    "# Initialize a 3D binary matrix of zeros\n",
    "theta_wt = np.zeros((W, T, M), dtype=int)\n",
    "\n",
    "# 미사일이 소모되는 리스트 left_FN_T으로 복사\n",
    "left_FN_T = copy.copy(FN_T)\n",
    "\n",
    "# 발사대에 적재된 유도탄 수량 리스트 left_m_w로 복사\n",
    "left_m_w = copy.copy(m_w)\n",
    "\n",
    "# 행렬의 원소들을 1차원 배열로 변환\n",
    "flattened = PK_wt.flatten()\n",
    "\n",
    "# 원소들을 내림차순으로 정렬\n",
    "sorted_indices = np.argsort(flattened)[::-1]\n",
    "\n",
    "\n",
    "i = 0\n",
    "m = 0\n",
    "indices_list = []\n",
    "while True :\n",
    "    # i번째 요격확률의 인덱스 v\n",
    "    v = sorted_indices[i]\n",
    "    \n",
    "    row = v // T\n",
    "    col = v % T\n",
    "    print(f\"Value: {flattened[v]}, Index: (Weapon : {row}, Target : {col})\")\n",
    "    \n",
    "    # 해당 Target의 할당할 수 있는 유도탄의 개수가 남아 있다면,\n",
    "    # 해당 Weapon의 적재된 유도탄이 남아 있다면,\n",
    "    if left_FN_T[col] > 0 and left_m_w[row] > 0:\n",
    "        # 할당할 유도탄 개수 감소\n",
    "        left_FN_T[col] -= 1\n",
    "        left_m_w[row] -= 1\n",
    "        # 해당 W T M에 1 부여\n",
    "        theta_wt[row][col][m] = 1\n",
    "        # 무기가 할당된 indices_list에 추가\n",
    "        indices_list.append(v)\n",
    "        # 다음 미사일 인덱스로 이동\n",
    "        m += 1\n",
    "\n",
    "    # 해당 Target의 할당할 수 있는 유도탄의 개수가 남아 있지 않다면,\n",
    "    elif left_FN_T[col] > 0:\n",
    "        print(f\"not enough Missile on Weapon {row}\")\n",
    "    \n",
    "    else :\n",
    "        print(f\"not enough Missile for Target {col}\")\n",
    "    \n",
    "    # 할당할 수 있는 유도탄의 개수를 모두 소모했다면 종료.\n",
    "    if sum(left_FN_T) == 0:\n",
    "        break\n",
    "    \n",
    "    # 다음으로 요격확률이 높은 인덱스로 이동\n",
    "    i += 1\n"
   ]
  },
  {
   "cell_type": "code",
   "execution_count": 60,
   "metadata": {},
   "outputs": [
    {
     "name": "stdout",
     "output_type": "stream",
     "text": [
      "767.7984881239656\n"
     ]
    }
   ],
   "source": [
    "print(objective_fun_1(theta_wt))"
   ]
  },
  {
   "cell_type": "code",
   "execution_count": 61,
   "metadata": {},
   "outputs": [
    {
     "name": "stdout",
     "output_type": "stream",
     "text": [
      "목표 함수 값 : 767.80\n",
      "타깃 0에 대하여 발사대 2가 미사일을 발사합니다. 요격확률 : 71.80\n",
      "타깃 1에 대하여 발사대 0가 미사일을 발사합니다. 요격확률 : 26.73\n",
      "타깃 2에 대하여 발사대 2가 미사일을 발사합니다. 요격확률 : 94.65\n",
      "타깃 3에 대하여 발사대 0가 미사일을 발사합니다. 요격확률 : 95.26\n",
      "타깃 4에 대하여 발사대 3가 미사일을 발사합니다. 요격확률 : 56.43\n",
      "타깃 5에 대하여 발사대 3가 미사일을 발사합니다. 요격확률 : 58.50\n",
      "타깃 6에 대하여 발사대 1가 미사일을 발사합니다. 요격확률 : 87.23\n",
      "타깃 7에 대하여 발사대 4가 미사일을 발사합니다. 요격확률 : 91.03\n",
      "타깃 8에 대하여 발사대 1가 미사일을 발사합니다. 요격확률 : 87.29\n",
      "타깃 9에 대하여 발사대 4가 미사일을 발사합니다. 요격확률 : 98.89\n"
     ]
    }
   ],
   "source": [
    "indices = np.where(theta_wt == 1)\n",
    "\n",
    "\n",
    "# Convert the indices to a list of tuples\n",
    "indices_list = list(zip(*indices))\n",
    "\n",
    "# Sort the indices by the second index (M)\n",
    "indices_list.sort(key=lambda x: x[1])\n",
    "print(f\"목표 함수 값 : {objective_fun_1(theta_wt):.2f}\")\n",
    "\n",
    "for i, group in enumerate(indices_list):\n",
    "    # Iterate over each group\n",
    "    print(f\"타깃 {group[1]}에 대하여 발사대 {group[0]}가 미사일을 발사합니다. 요격확률 : {PK_wt[group[0], group[1]]:.2f}\")"
   ]
  },
  {
   "cell_type": "code",
   "execution_count": 62,
   "metadata": {},
   "outputs": [
    {
     "name": "stdout",
     "output_type": "stream",
     "text": [
      "True\n"
     ]
    }
   ],
   "source": [
    "\"\"\"\n",
    "제약조건 (2)\n",
    "수식 (2)는 동일 유도탄이 다수의 표적에 중복하여 할당되지 않기 위한 제약 조건이다.\n",
    "\"\"\"\n",
    "\n",
    "# 동일 유도탄이 다수의 표적에 중복 할당 X\n",
    "def constraint2(theta_wt):\n",
    "    W, T, M = theta_wt.shape\n",
    "    for m in range(M):\n",
    "        for w in range(W):\n",
    "            # If the sum exceeds 1, immediately return False\n",
    "            if np.sum(theta_wt[w,:,m]) > 1:\n",
    "                return False\n",
    "    # If none of the sums exceed 1, return True\n",
    "    return True\n",
    "\n",
    "# Now we can check the constraint:\n",
    "print(constraint2(theta_wt))\n"
   ]
  },
  {
   "cell_type": "code",
   "execution_count": 63,
   "metadata": {},
   "outputs": [
    {
     "name": "stdout",
     "output_type": "stream",
     "text": [
      "True\n"
     ]
    }
   ],
   "source": [
    "\"\"\"\n",
    "제약조건 (3)\n",
    "각 위협 표적에 할당할 수 있는 유도탄의 개수를 제한하기 위하여 수식 (3)과 같은 제약식을 적용한다.\n",
    "\"\"\"\n",
    "# constraint3\n",
    "def constraint3(theta_wt):\n",
    "    W, T, M = theta_wt.shape\n",
    "    for t in range(T):\n",
    "        if np.sum(theta_wt[:,t,:]) > FN_T[t]:\n",
    "            return False\n",
    "    return True\n",
    "\n",
    "print(constraint3(theta_wt))"
   ]
  },
  {
   "cell_type": "code",
   "execution_count": 64,
   "metadata": {},
   "outputs": [],
   "source": [
    "\"\"\"\n",
    "제약조건 (4)\n",
    "한 발사대가 연속발사를 하기 위해서는 발사절차 및 발사대 안정화를 위한 시간을 고려하여야 하므로, 수식 (4)과 같이 한 발사대 상의 연속적 발사를 위한 최소 발사 간격을 제약으로 고려한다.\n",
    "\"\"\"\n",
    "\n",
    "def constraint4(theta_wt):\n",
    "    return True"
   ]
  },
  {
   "cell_type": "code",
   "execution_count": 65,
   "metadata": {},
   "outputs": [],
   "source": [
    "\"\"\"\n",
    "제약조건 (5)\n",
    "각 발사대에서 발사된 유도탄은 제한된 공간 영역 상에서 표적을 요격할 수 있다.\n",
    "표적의 예상 궤적과 발사대 위치에 따른 요격 공간으로부터 교전 가능한 유도탄 발사 시간이 계산되어진다.\n",
    "위협 표적에 대해 서 교전 가능한 발사 시간 구간 내에서 발사 시점이 산출되어야만 교전 가능하므로, 수식 (5)와 같이 표적 t에 대한 발사대 w에서 발사 가능한 시간에 대한 제약 조건을 고려해야 한다.\n",
    "\"\"\"\n",
    "def constraint5(theta_wt):\n",
    "    return True"
   ]
  },
  {
   "cell_type": "code",
   "execution_count": 66,
   "metadata": {},
   "outputs": [
    {
     "name": "stdout",
     "output_type": "stream",
     "text": [
      "True\n"
     ]
    }
   ],
   "source": [
    "\"\"\"\n",
    "제약조건 (6)\n",
    "각 발사대는 적재된 수량만큼 유도탄을 사용할 수 있으므로, 수식 (6)과 같이 한 발사대에서 할당할 수 있는 유도탄의 개수는 적재량 이하여야 한다는 제약 조건을 고려한다.\n",
    "\"\"\"\n",
    "def constraint6(theta_wt):\n",
    "    W, T, M = theta_wt.shape\n",
    "    for w in range(W):\n",
    "        if np.sum(theta_wt[w,:,:]) > m_w[w]:\n",
    "            return False\n",
    "    return True\n",
    "\n",
    "print(constraint6(theta_wt))"
   ]
  },
  {
   "cell_type": "markdown",
   "metadata": {},
   "source": [
    "타격 가능 시간 오름차순으로 정렬: 가장 먼저 타격 가능 시간이 빠른 타겟부터 발사할 계획을 세우면, 나중에 남는 시간을 더 유연하게 사용할 수 있습니다.\n",
    "\n",
    "발사대 사용 계획: 발사대는 1초에 한 번씩만 발사가 가능하므로, 가능한 한 빠르게 그리고 빠르게 발사해야 하는 타겟을 먼저 선택합니다.\n",
    "\n",
    "제한 시간 확인: 제한 시간이 10초라면, 최대 10번의 발사가 가능합니다. 따라서 가능한 한 빠른 시간 내에 많은 타겟을 처리해야 합니다.\n",
    "\n",
    "동일 시간대의 타겟 처리: 만약 두 개 이상의 타겟이 동일한 시간에 발사해야 하는 경우, 그 중 하나는 놓치게 됩니다. 이러한 상황을 최소화하기 위해 가능한 한 빠른 시간대의 타겟을 우선적으로 처리합니다.\n",
    "\n",
    "여기에 따라 간단한 알고리즘을 생각해볼 수 있습니다:\n",
    "\n",
    "타겟의 '타격 가능 시간'을 오름차순으로 정렬합니다.\n",
    "\n",
    "제한 시간 (10초) 내에 발사대가 발사할 수 있는 최대 횟수는 10번입니다.\n",
    "\n",
    "정렬된 목록을 차례대로 확인하면서, 해당 타겟을 발사대가 처리할 수 있는지 확인합니다."
   ]
  },
  {
   "cell_type": "code",
   "execution_count": 67,
   "metadata": {},
   "outputs": [
    {
     "name": "stdout",
     "output_type": "stream",
     "text": [
      "[1 3]\n",
      "[(2.860757465489678, 7.676235505713516, 1)]\n",
      "[(2.1795327319875875, 5.671436402068977, 3), (2.860757465489678, 7.676235505713516, 1)]\n",
      "[6 8]\n",
      "[(0.08087358976130288, 8.76142952902932, 6)]\n",
      "[(0.08087358976130288, 8.76142952902932, 6), (3.112627003799402, 9.370031409514059, 8)]\n",
      "[0 2]\n",
      "[(3.914473368931056, 9.927365052389222, 0)]\n",
      "[(1.8459174490117274, 9.880224730137861, 2), (3.914473368931056, 9.927365052389222, 0)]\n",
      "[4 5]\n",
      "[(0.07515920174542057, 6.998784068185486, 4)]\n",
      "[(0.07515920174542057, 6.998784068185486, 4), (2.4705419883035082, 6.672612544259232, 5)]\n",
      "[7 9]\n",
      "[(0.5157051906194132, 3.646088447992358, 7)]\n",
      "[(0.5157051906194132, 3.646088447992358, 7), (1.4548430837704904, 4.480880236054584, 9)]\n"
     ]
    }
   ],
   "source": [
    "W, T, M = theta_wt.shape\n",
    "for w in range(W):\n",
    "    Target_Miassile_indices = np.where(theta_wt[w,:,:] == 1)\n",
    "\n",
    "    Target_indices_list = Target_Miassile_indices[0]\n",
    "    Miassile_indices_list = Target_Miassile_indices[1]\n",
    "\n",
    "    print(Target_indices_list)\n",
    "    ft_lt_w_t_list = []\n",
    "    \n",
    "    for w_t in Target_indices_list:\n",
    "        ft_lt_w_t_list.append((ft_wt[w,w_t],lt_wt[w,w_t],w_t))\n",
    "        # 최초발사가능시점,최후발사가능시점,t index\n",
    "        sorted_ft_lt_w_t_list = sorted(ft_lt_w_t_list, key=lambda x: x[0])\n",
    "        print(sorted_ft_lt_w_t_list)"
   ]
  },
  {
   "cell_type": "code",
   "execution_count": null,
   "metadata": {},
   "outputs": [],
   "source": []
  }
 ],
 "metadata": {
  "kernelspec": {
   "display_name": "base",
   "language": "python",
   "name": "python3"
  },
  "language_info": {
   "codemirror_mode": {
    "name": "ipython",
    "version": 3
   },
   "file_extension": ".py",
   "mimetype": "text/x-python",
   "name": "python",
   "nbconvert_exporter": "python",
   "pygments_lexer": "ipython3",
   "version": "3.9.12"
  },
  "orig_nbformat": 4
 },
 "nbformat": 4,
 "nbformat_minor": 2
}
